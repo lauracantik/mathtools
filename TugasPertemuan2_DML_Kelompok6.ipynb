{
  "nbformat": 4,
  "nbformat_minor": 0,
  "metadata": {
    "colab": {
      "provenance": [],
      "authorship_tag": "ABX9TyOFMiOHEDSoX5sYe2wrw4Yr",
      "include_colab_link": true
    },
    "kernelspec": {
      "name": "python3",
      "display_name": "Python 3"
    },
    "language_info": {
      "name": "python"
    }
  },
  "cells": [
    {
      "cell_type": "markdown",
      "metadata": {
        "id": "view-in-github",
        "colab_type": "text"
      },
      "source": [
        "<a href=\"https://colab.research.google.com/github/lauracantik/mathtools/blob/main/TugasPertemuan2_DML_Kelompok6.ipynb\" target=\"_parent\"><img src=\"https://colab.research.google.com/assets/colab-badge.svg\" alt=\"Open In Colab\"/></a>"
      ]
    },
    {
      "cell_type": "code",
      "execution_count": 1,
      "metadata": {
        "colab": {
          "base_uri": "https://localhost:8080/"
        },
        "id": "YfZaA8oNSuXE",
        "outputId": "5bbebada-31d7-4dab-a9b1-0aed9583d659"
      },
      "outputs": [
        {
          "output_type": "stream",
          "name": "stdout",
          "text": [
            "Hello, world!\n"
          ]
        }
      ],
      "source": [
        "print('Hello, world!')"
      ]
    },
    {
      "cell_type": "code",
      "source": [
        "n = int(input('Ketik sebuah angka, dan faktorialnya akan diprinted: '))\n",
        "\n",
        "if n < 0:\n",
        " raise ValueError('Anda harus memasukkan bilangan bulat bukan negatif')\n",
        "\n",
        "faktorial = 1\n",
        "\n",
        "for i in range(2, n + 1):\n",
        " faktorial *= i\n",
        "\n",
        "print(faktorial)"
      ],
      "metadata": {
        "colab": {
          "base_uri": "https://localhost:8080/"
        },
        "id": "T5JF97FtTN43",
        "outputId": "bb4e6504-85ae-4eea-a6f2-6743d73600c4"
      },
      "execution_count": 2,
      "outputs": [
        {
          "output_type": "stream",
          "name": "stdout",
          "text": [
            "Ketik sebuah angka, dan faktorialnya akan diprinted: 8\n",
            "40320\n"
          ]
        }
      ]
    },
    {
      "cell_type": "code",
      "source": [
        "class Orang:\n",
        "  def __init__(self, nama):\n",
        "   self.nama = nama\n",
        "\n",
        "  def tampilkan_nama(self):\n",
        "   return self.nama\n",
        "\n",
        "namacetak = (input('Ketik nama yang akan diprinted: '))\n",
        "\n",
        "orang = Orang(namacetak) # Initialisasi object\n",
        "\n",
        "print(\"Hasil print nama: \" + orang.tampilkan_nama()) # Output: Test UMB"
      ],
      "metadata": {
        "colab": {
          "base_uri": "https://localhost:8080/"
        },
        "id": "TKS30YJGTOAe",
        "outputId": "e77834a8-6565-4fe1-ead1-cf227140df10"
      },
      "execution_count": 4,
      "outputs": [
        {
          "output_type": "stream",
          "name": "stdout",
          "text": [
            "Ketik nama yang akan diprinted: Kelompok6\n",
            "Hasil print nama: Kelompok6\n"
          ]
        }
      ]
    },
    {
      "cell_type": "code",
      "source": [
        "# Mengambil input\n",
        "nama = input(\"Siapa nama kamu: \")\n",
        "umur = input(\"Berapa umur kamu: \")\n",
        "# Menampilkan output\n",
        "print(\"Hello {} umur kamu adalah {} tahun\".format(nama, umur))\n",
        "print(\"Hello \"+nama+\" umur kamu adalah \"+umur+\" tahun\")"
      ],
      "metadata": {
        "colab": {
          "base_uri": "https://localhost:8080/"
        },
        "id": "HGonPYzFTR3q",
        "outputId": "87476c35-68bb-441b-813f-eba6baf75bec"
      },
      "execution_count": 16,
      "outputs": [
        {
          "output_type": "stream",
          "name": "stdout",
          "text": [
            "Siapa nama kamu: Laura Cantik\n",
            "Berapa umur kamu: 17\n",
            "Hello Laura Cantik umur kamu adalah 17 tahun\n",
            "Hello Laura Cantik umur kamu adalah 17 tahun\n"
          ]
        }
      ]
    },
    {
      "cell_type": "code",
      "source": [
        "# Mengambil input\n",
        "nama = input(\"Siapa nama kamu: \")\n",
        "umur = input(\"Berapa umur kamu: \")\n",
        "# Menampilkan output\n",
        "print(\"Hello %s umur kamu adalah %s tahun\" % (nama, umur))"
      ],
      "metadata": {
        "colab": {
          "base_uri": "https://localhost:8080/"
        },
        "id": "lEMxQNHqTOXq",
        "outputId": "c757d9f5-6a50-4dfa-93f2-2143c028c4a0"
      },
      "execution_count": 15,
      "outputs": [
        {
          "output_type": "stream",
          "name": "stdout",
          "text": [
            "Siapa nama kamu: Irwan Maulana\n",
            "Berapa umur kamu: 5\n",
            "Hello Irwan Maulana umur kamu adalah 5 tahun\n"
          ]
        }
      ]
    },
    {
      "cell_type": "code",
      "source": [
        "input_angka = input(\"masukkan angka: \")\n",
        "print(type(input_angka))\n"
      ],
      "metadata": {
        "colab": {
          "base_uri": "https://localhost:8080/"
        },
        "id": "imaDLc6STXYJ",
        "outputId": "ab3ec355-0749-41fd-a805-d1e7a08b6f06"
      },
      "execution_count": 7,
      "outputs": [
        {
          "output_type": "stream",
          "name": "stdout",
          "text": [
            "masukkan angka: 200\n",
            "<class 'str'>\n"
          ]
        }
      ]
    },
    {
      "cell_type": "code",
      "source": [
        "bil1 = input(\"bilangan 1: \")\n",
        "bil2 = input(\"bilangan 2: \")\n",
        "hasil = bil1 + bil2\n",
        "print(\"hasil dari {} + {} adalah {}\".format(bil1, bil2, hasil))"
      ],
      "metadata": {
        "colab": {
          "base_uri": "https://localhost:8080/"
        },
        "id": "lwnh2nrVTZC3",
        "outputId": "eb3c3086-7eb5-482a-add3-00508055681d"
      },
      "execution_count": 8,
      "outputs": [
        {
          "output_type": "stream",
          "name": "stdout",
          "text": [
            "bilangan 1: 10\n",
            "bilangan 2: 8\n",
            "hasil dari 10 + 8 adalah 108\n"
          ]
        }
      ]
    },
    {
      "cell_type": "code",
      "source": [
        "bil1 = input(\"bilangan 1: \")\n",
        "bil2 = input(\"bilangan 2: \")\n",
        "hasil = int(bil1) + int(bil2)\n",
        "print(\"hasil dari {} + {} adalah {}\".format(bil1, bil2, hasil))"
      ],
      "metadata": {
        "colab": {
          "base_uri": "https://localhost:8080/"
        },
        "id": "MFGX16jYTbBX",
        "outputId": "efc67d3b-836b-4211-d7e9-9bc3d109817d"
      },
      "execution_count": 9,
      "outputs": [
        {
          "output_type": "stream",
          "name": "stdout",
          "text": [
            "bilangan 1: 15\n",
            "bilangan 2: 3\n",
            "hasil dari 15 + 3 adalah 18\n"
          ]
        }
      ]
    },
    {
      "cell_type": "code",
      "source": [
        "bil1 = int(input('Masukan Bilangan ke-1 = '))\n",
        "bil2 = int(input('Masukan Bilangan ke-2 = '))\n",
        "\n",
        "print(\"\")\n",
        "print(\"Dan Hasilnya Adalah..\")\n",
        "print(\"\")\n",
        "\n",
        "tambah = bil1+bil2\n",
        "kali = bil1*bil2\n",
        "print(\"Hasil tambahnya adalah = \", tambah)\n",
        "print(\"Hasilnya perkaliannya adalah = \", kali)"
      ],
      "metadata": {
        "colab": {
          "base_uri": "https://localhost:8080/"
        },
        "id": "O3rfstNGTce9",
        "outputId": "4036e181-06d7-40a1-bd8e-ab01cdca3ec9"
      },
      "execution_count": 10,
      "outputs": [
        {
          "output_type": "stream",
          "name": "stdout",
          "text": [
            "Masukan Bilangan ke-1 = 2\n",
            "Masukan Bilangan ke-2 = 9\n",
            "\n",
            "Dan Hasilnya Adalah..\n",
            "\n",
            "Hasil tambahnya adalah =  11\n",
            "Hasilnya perkaliannya adalah =  18\n"
          ]
        }
      ]
    },
    {
      "cell_type": "code",
      "source": [
        "r = int(input('jari jari ='))\n",
        "t = int(input('tinggi ='))\n",
        "phi = 3.14\n",
        "volume = 1/3*phi*r*2*t\n",
        "print('volume=', volume)"
      ],
      "metadata": {
        "colab": {
          "base_uri": "https://localhost:8080/"
        },
        "id": "xm900yTxTfjN",
        "outputId": "0710c5bf-1e42-4beb-927f-d1f1c26d27c4"
      },
      "execution_count": 11,
      "outputs": [
        {
          "output_type": "stream",
          "name": "stdout",
          "text": [
            "jari jari =5\n",
            "tinggi =10\n",
            "volume= 104.66666666666667\n"
          ]
        }
      ]
    },
    {
      "cell_type": "code",
      "source": [
        "nama = input(\"Masukan Nama Anda = \")\n",
        "jabatan = input(\"Masukan Jabatan Anda = \")\n",
        "gaji = int(input(\"Masukan Gaji Anda = \"))\n",
        "pajak = 10/100*gaji\n",
        "total = gaji-pajak\n",
        "print(\"Pegawai dengan nama\", nama, \"dan jabatan\", jabatan, \"\\ndengan gaji\", gaji, \"harus membayar pajak sebesar\", pajak, \"\\nTotal yang didapat bersih\", total)"
      ],
      "metadata": {
        "colab": {
          "base_uri": "https://localhost:8080/"
        },
        "id": "J_l4LOPjTg0j",
        "outputId": "5d6c6834-db95-4c7b-d5bc-c7ee4f93c805"
      },
      "execution_count": 14,
      "outputs": [
        {
          "output_type": "stream",
          "name": "stdout",
          "text": [
            "Masukan Nama Anda = Devana Azzahra\n",
            "Masukan Jabatan Anda = Head Operasional\n",
            "Masukan Gaji Anda = 20000000\n",
            "Pegawai dengan nama Devana Azzahra dan jabatan Head Operasional \n",
            "dengan gaji 20000000 harus membayar pajak sebesar 2000000.0 \n",
            "Total yang didapat bersih 18000000.0\n"
          ]
        }
      ]
    }
  ]
}