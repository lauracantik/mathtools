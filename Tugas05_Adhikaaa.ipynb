{
  "nbformat": 4,
  "nbformat_minor": 0,
  "metadata": {
    "colab": {
      "name": "Untitled1.ipynb",
      "provenance": [],
      "authorship_tag": "ABX9TyOS7G2Jon/MS5zqeSNSPVQ/",
      "include_colab_link": true
    },
    "kernelspec": {
      "name": "python3",
      "display_name": "Python 3"
    },
    "language_info": {
      "name": "python"
    }
  },
  "cells": [
    {
      "cell_type": "markdown",
      "metadata": {
        "id": "view-in-github",
        "colab_type": "text"
      },
      "source": [
        "<a href=\"https://colab.research.google.com/github/lauracantik/mathtools/blob/main/Tugas05_Adhikaaa.ipynb\" target=\"_parent\"><img src=\"https://colab.research.google.com/assets/colab-badge.svg\" alt=\"Open In Colab\"/></a>"
      ]
    },
    {
      "cell_type": "code",
      "execution_count": null,
      "metadata": {
        "colab": {
          "base_uri": "https://localhost:8080/"
        },
        "id": "m76E4wLGqPRX",
        "outputId": "874b6bbd-f162-48a6-fa02-05d1bc28c62a"
      },
      "outputs": [
        {
          "output_type": "stream",
          "name": "stdout",
          "text": [
            "Looking in indexes: https://pypi.org/simple, https://us-python.pkg.dev/colab-wheels/public/simple/\n",
            "Collecting ray\n",
            "  Downloading ray-1.13.0-cp37-cp37m-manylinux2014_x86_64.whl (54.5 MB)\n",
            "\u001b[K     |████████████████████████████████| 54.5 MB 213 kB/s \n",
            "\u001b[?25hRequirement already satisfied: attrs in /usr/local/lib/python3.7/dist-packages (from ray) (21.4.0)\n",
            "Requirement already satisfied: numpy>=1.16 in /usr/local/lib/python3.7/dist-packages (from ray) (1.21.6)\n",
            "Requirement already satisfied: jsonschema in /usr/local/lib/python3.7/dist-packages (from ray) (4.3.3)\n",
            "Requirement already satisfied: filelock in /usr/local/lib/python3.7/dist-packages (from ray) (3.7.1)\n",
            "Requirement already satisfied: protobuf<4.0.0,>=3.15.3 in /usr/local/lib/python3.7/dist-packages (from ray) (3.17.3)\n",
            "Collecting virtualenv\n",
            "  Downloading virtualenv-20.16.0-py2.py3-none-any.whl (8.8 MB)\n",
            "\u001b[K     |████████████████████████████████| 8.8 MB 38.9 MB/s \n",
            "\u001b[?25hCollecting aiosignal\n",
            "  Downloading aiosignal-1.2.0-py3-none-any.whl (8.2 kB)\n",
            "Collecting grpcio<=1.43.0,>=1.28.1\n",
            "  Downloading grpcio-1.43.0-cp37-cp37m-manylinux_2_17_x86_64.manylinux2014_x86_64.whl (4.1 MB)\n",
            "\u001b[K     |████████████████████████████████| 4.1 MB 53.5 MB/s \n",
            "\u001b[?25hCollecting frozenlist\n",
            "  Downloading frozenlist-1.3.0-cp37-cp37m-manylinux_2_5_x86_64.manylinux1_x86_64.manylinux_2_17_x86_64.manylinux2014_x86_64.whl (144 kB)\n",
            "\u001b[K     |████████████████████████████████| 144 kB 60.7 MB/s \n",
            "\u001b[?25hRequirement already satisfied: requests in /usr/local/lib/python3.7/dist-packages (from ray) (2.23.0)\n",
            "Requirement already satisfied: msgpack<2.0.0,>=1.0.0 in /usr/local/lib/python3.7/dist-packages (from ray) (1.0.4)\n",
            "Requirement already satisfied: click<=8.0.4,>=7.0 in /usr/local/lib/python3.7/dist-packages (from ray) (7.1.2)\n",
            "Requirement already satisfied: pyyaml in /usr/local/lib/python3.7/dist-packages (from ray) (3.13)\n",
            "Requirement already satisfied: six>=1.5.2 in /usr/local/lib/python3.7/dist-packages (from grpcio<=1.43.0,>=1.28.1->ray) (1.15.0)\n",
            "Requirement already satisfied: pyrsistent!=0.17.0,!=0.17.1,!=0.17.2,>=0.14.0 in /usr/local/lib/python3.7/dist-packages (from jsonschema->ray) (0.18.1)\n",
            "Requirement already satisfied: importlib-resources>=1.4.0 in /usr/local/lib/python3.7/dist-packages (from jsonschema->ray) (5.8.0)\n",
            "Requirement already satisfied: typing-extensions in /usr/local/lib/python3.7/dist-packages (from jsonschema->ray) (4.1.1)\n",
            "Requirement already satisfied: importlib-metadata in /usr/local/lib/python3.7/dist-packages (from jsonschema->ray) (4.12.0)\n",
            "Requirement already satisfied: zipp>=3.1.0 in /usr/local/lib/python3.7/dist-packages (from importlib-resources>=1.4.0->jsonschema->ray) (3.8.1)\n",
            "Requirement already satisfied: urllib3!=1.25.0,!=1.25.1,<1.26,>=1.21.1 in /usr/local/lib/python3.7/dist-packages (from requests->ray) (1.24.3)\n",
            "Requirement already satisfied: chardet<4,>=3.0.2 in /usr/local/lib/python3.7/dist-packages (from requests->ray) (3.0.4)\n",
            "Requirement already satisfied: idna<3,>=2.5 in /usr/local/lib/python3.7/dist-packages (from requests->ray) (2.10)\n",
            "Requirement already satisfied: certifi>=2017.4.17 in /usr/local/lib/python3.7/dist-packages (from requests->ray) (2022.6.15)\n",
            "Collecting platformdirs<3,>=2\n",
            "  Downloading platformdirs-2.5.2-py3-none-any.whl (14 kB)\n",
            "Collecting distlib<1,>=0.3.1\n",
            "  Downloading distlib-0.3.5-py2.py3-none-any.whl (466 kB)\n",
            "\u001b[K     |████████████████████████████████| 466 kB 58.7 MB/s \n",
            "\u001b[?25hInstalling collected packages: platformdirs, frozenlist, distlib, virtualenv, grpcio, aiosignal, ray\n",
            "  Attempting uninstall: grpcio\n",
            "    Found existing installation: grpcio 1.47.0\n",
            "    Uninstalling grpcio-1.47.0:\n",
            "      Successfully uninstalled grpcio-1.47.0\n",
            "Successfully installed aiosignal-1.2.0 distlib-0.3.5 frozenlist-1.3.0 grpcio-1.43.0 platformdirs-2.5.2 ray-1.13.0 virtualenv-20.16.0\n"
          ]
        }
      ],
      "source": [
        "!pip install ray"
      ]
    },
    {
      "cell_type": "code",
      "source": [
        "import ray\n",
        "import pandas as pd\n",
        "\n",
        "# https://raw.githubusercontent.com/adhikaaa/google-collab/main/student-mat-pass-or-fail.csv\n",
        "ds = ray.data.read_csv('/content/student-mat-pass-or-fail.csv')"
      ],
      "metadata": {
        "id": "UHH9m97vq_eE"
      },
      "execution_count": null,
      "outputs": []
    },
    {
      "cell_type": "code",
      "source": [
        "ds.show()"
      ],
      "metadata": {
        "colab": {
          "base_uri": "https://localhost:8080/"
        },
        "id": "WtDiGDmHEuW3",
        "outputId": "a6597802-01ab-44c0-e660-b54f1dc1c3d0"
      },
      "execution_count": null,
      "outputs": [
        {
          "output_type": "stream",
          "name": "stdout",
          "text": [
            "{'school': 1, 'sex': 1, 'age': 18, 'address': 1, 'famsize': 0, 'Pstatus': 0, 'Medu': 4, 'Fedu': 4, 'traveltime': 2, 'studytime': 2, 'failures': 0, 'schoolsup': 1, 'famsup': 0, 'paid': 0, 'activities': 0, 'nursery': 1, 'higher': 1, 'internet': 0, 'romantic': 0, 'famrel': 4, 'freetime': 3, 'goout': 4, 'Dalc': 1, 'Walc': 1, 'health': 3, 'absences': 6, 'G1': 5, 'G2': 6, 'G3': 6, 'pass': 0}\n",
            "{'school': 1, 'sex': 1, 'age': 17, 'address': 1, 'famsize': 0, 'Pstatus': 1, 'Medu': 1, 'Fedu': 1, 'traveltime': 1, 'studytime': 2, 'failures': 0, 'schoolsup': 0, 'famsup': 1, 'paid': 0, 'activities': 0, 'nursery': 0, 'higher': 1, 'internet': 1, 'romantic': 0, 'famrel': 5, 'freetime': 3, 'goout': 3, 'Dalc': 1, 'Walc': 1, 'health': 3, 'absences': 4, 'G1': 5, 'G2': 5, 'G3': 6, 'pass': 0}\n",
            "{'school': 1, 'sex': 1, 'age': 15, 'address': 1, 'famsize': 1, 'Pstatus': 1, 'Medu': 1, 'Fedu': 1, 'traveltime': 1, 'studytime': 2, 'failures': 3, 'schoolsup': 1, 'famsup': 0, 'paid': 1, 'activities': 0, 'nursery': 1, 'higher': 1, 'internet': 1, 'romantic': 0, 'famrel': 4, 'freetime': 3, 'goout': 2, 'Dalc': 2, 'Walc': 3, 'health': 3, 'absences': 10, 'G1': 7, 'G2': 8, 'G3': 10, 'pass': 1}\n",
            "{'school': 1, 'sex': 1, 'age': 15, 'address': 1, 'famsize': 0, 'Pstatus': 1, 'Medu': 4, 'Fedu': 2, 'traveltime': 1, 'studytime': 3, 'failures': 0, 'schoolsup': 0, 'famsup': 1, 'paid': 1, 'activities': 1, 'nursery': 1, 'higher': 1, 'internet': 1, 'romantic': 1, 'famrel': 3, 'freetime': 2, 'goout': 2, 'Dalc': 1, 'Walc': 1, 'health': 5, 'absences': 2, 'G1': 15, 'G2': 14, 'G3': 15, 'pass': 1}\n",
            "{'school': 1, 'sex': 1, 'age': 16, 'address': 1, 'famsize': 0, 'Pstatus': 1, 'Medu': 3, 'Fedu': 3, 'traveltime': 1, 'studytime': 2, 'failures': 0, 'schoolsup': 0, 'famsup': 1, 'paid': 1, 'activities': 0, 'nursery': 1, 'higher': 1, 'internet': 0, 'romantic': 0, 'famrel': 4, 'freetime': 3, 'goout': 2, 'Dalc': 1, 'Walc': 2, 'health': 5, 'absences': 4, 'G1': 6, 'G2': 10, 'G3': 10, 'pass': 1}\n",
            "{'school': 1, 'sex': 0, 'age': 16, 'address': 1, 'famsize': 1, 'Pstatus': 1, 'Medu': 4, 'Fedu': 3, 'traveltime': 1, 'studytime': 2, 'failures': 0, 'schoolsup': 0, 'famsup': 1, 'paid': 1, 'activities': 1, 'nursery': 1, 'higher': 1, 'internet': 1, 'romantic': 0, 'famrel': 5, 'freetime': 4, 'goout': 2, 'Dalc': 1, 'Walc': 2, 'health': 5, 'absences': 10, 'G1': 15, 'G2': 15, 'G3': 15, 'pass': 1}\n",
            "{'school': 1, 'sex': 0, 'age': 16, 'address': 1, 'famsize': 1, 'Pstatus': 1, 'Medu': 2, 'Fedu': 2, 'traveltime': 1, 'studytime': 2, 'failures': 0, 'schoolsup': 0, 'famsup': 0, 'paid': 0, 'activities': 0, 'nursery': 1, 'higher': 1, 'internet': 1, 'romantic': 0, 'famrel': 4, 'freetime': 4, 'goout': 4, 'Dalc': 1, 'Walc': 1, 'health': 3, 'absences': 0, 'G1': 12, 'G2': 12, 'G3': 11, 'pass': 1}\n",
            "{'school': 1, 'sex': 1, 'age': 17, 'address': 1, 'famsize': 0, 'Pstatus': 0, 'Medu': 4, 'Fedu': 4, 'traveltime': 2, 'studytime': 2, 'failures': 0, 'schoolsup': 1, 'famsup': 1, 'paid': 0, 'activities': 0, 'nursery': 1, 'higher': 1, 'internet': 0, 'romantic': 0, 'famrel': 4, 'freetime': 1, 'goout': 4, 'Dalc': 1, 'Walc': 1, 'health': 1, 'absences': 6, 'G1': 6, 'G2': 5, 'G3': 6, 'pass': 0}\n",
            "{'school': 1, 'sex': 0, 'age': 15, 'address': 1, 'famsize': 1, 'Pstatus': 0, 'Medu': 3, 'Fedu': 2, 'traveltime': 1, 'studytime': 2, 'failures': 0, 'schoolsup': 0, 'famsup': 1, 'paid': 1, 'activities': 0, 'nursery': 1, 'higher': 1, 'internet': 1, 'romantic': 0, 'famrel': 4, 'freetime': 2, 'goout': 2, 'Dalc': 1, 'Walc': 1, 'health': 1, 'absences': 0, 'G1': 16, 'G2': 18, 'G3': 19, 'pass': 1}\n",
            "{'school': 1, 'sex': 0, 'age': 15, 'address': 1, 'famsize': 0, 'Pstatus': 1, 'Medu': 3, 'Fedu': 4, 'traveltime': 1, 'studytime': 2, 'failures': 0, 'schoolsup': 0, 'famsup': 1, 'paid': 1, 'activities': 1, 'nursery': 1, 'higher': 1, 'internet': 1, 'romantic': 0, 'famrel': 5, 'freetime': 5, 'goout': 1, 'Dalc': 1, 'Walc': 1, 'health': 5, 'absences': 0, 'G1': 14, 'G2': 15, 'G3': 15, 'pass': 1}\n",
            "{'school': 1, 'sex': 1, 'age': 15, 'address': 1, 'famsize': 0, 'Pstatus': 1, 'Medu': 4, 'Fedu': 4, 'traveltime': 1, 'studytime': 2, 'failures': 0, 'schoolsup': 0, 'famsup': 1, 'paid': 1, 'activities': 0, 'nursery': 1, 'higher': 1, 'internet': 1, 'romantic': 0, 'famrel': 3, 'freetime': 3, 'goout': 3, 'Dalc': 1, 'Walc': 2, 'health': 2, 'absences': 0, 'G1': 10, 'G2': 8, 'G3': 9, 'pass': 0}\n",
            "{'school': 1, 'sex': 1, 'age': 15, 'address': 1, 'famsize': 0, 'Pstatus': 1, 'Medu': 2, 'Fedu': 1, 'traveltime': 3, 'studytime': 3, 'failures': 0, 'schoolsup': 0, 'famsup': 1, 'paid': 0, 'activities': 1, 'nursery': 1, 'higher': 1, 'internet': 1, 'romantic': 0, 'famrel': 5, 'freetime': 2, 'goout': 2, 'Dalc': 1, 'Walc': 1, 'health': 4, 'absences': 4, 'G1': 10, 'G2': 12, 'G3': 12, 'pass': 1}\n",
            "{'school': 1, 'sex': 0, 'age': 15, 'address': 1, 'famsize': 1, 'Pstatus': 1, 'Medu': 4, 'Fedu': 4, 'traveltime': 1, 'studytime': 1, 'failures': 0, 'schoolsup': 0, 'famsup': 1, 'paid': 1, 'activities': 1, 'nursery': 1, 'higher': 1, 'internet': 1, 'romantic': 0, 'famrel': 4, 'freetime': 3, 'goout': 3, 'Dalc': 1, 'Walc': 3, 'health': 5, 'absences': 2, 'G1': 14, 'G2': 14, 'G3': 14, 'pass': 1}\n",
            "{'school': 1, 'sex': 0, 'age': 15, 'address': 1, 'famsize': 0, 'Pstatus': 1, 'Medu': 4, 'Fedu': 3, 'traveltime': 2, 'studytime': 2, 'failures': 0, 'schoolsup': 0, 'famsup': 1, 'paid': 1, 'activities': 0, 'nursery': 1, 'higher': 1, 'internet': 1, 'romantic': 0, 'famrel': 5, 'freetime': 4, 'goout': 3, 'Dalc': 1, 'Walc': 2, 'health': 3, 'absences': 2, 'G1': 10, 'G2': 10, 'G3': 11, 'pass': 1}\n",
            "{'school': 1, 'sex': 0, 'age': 15, 'address': 1, 'famsize': 0, 'Pstatus': 0, 'Medu': 2, 'Fedu': 2, 'traveltime': 1, 'studytime': 3, 'failures': 0, 'schoolsup': 0, 'famsup': 1, 'paid': 0, 'activities': 0, 'nursery': 1, 'higher': 1, 'internet': 1, 'romantic': 1, 'famrel': 4, 'freetime': 5, 'goout': 2, 'Dalc': 1, 'Walc': 1, 'health': 3, 'absences': 0, 'G1': 14, 'G2': 16, 'G3': 16, 'pass': 1}\n",
            "{'school': 1, 'sex': 1, 'age': 16, 'address': 1, 'famsize': 0, 'Pstatus': 1, 'Medu': 4, 'Fedu': 4, 'traveltime': 1, 'studytime': 1, 'failures': 0, 'schoolsup': 0, 'famsup': 1, 'paid': 0, 'activities': 0, 'nursery': 1, 'higher': 1, 'internet': 1, 'romantic': 0, 'famrel': 4, 'freetime': 4, 'goout': 4, 'Dalc': 1, 'Walc': 2, 'health': 2, 'absences': 4, 'G1': 14, 'G2': 14, 'G3': 14, 'pass': 1}\n",
            "{'school': 1, 'sex': 1, 'age': 16, 'address': 1, 'famsize': 0, 'Pstatus': 1, 'Medu': 4, 'Fedu': 4, 'traveltime': 1, 'studytime': 3, 'failures': 0, 'schoolsup': 0, 'famsup': 1, 'paid': 1, 'activities': 1, 'nursery': 1, 'higher': 1, 'internet': 1, 'romantic': 0, 'famrel': 3, 'freetime': 2, 'goout': 3, 'Dalc': 1, 'Walc': 2, 'health': 2, 'absences': 6, 'G1': 13, 'G2': 14, 'G3': 14, 'pass': 1}\n",
            "{'school': 1, 'sex': 1, 'age': 16, 'address': 1, 'famsize': 0, 'Pstatus': 1, 'Medu': 3, 'Fedu': 3, 'traveltime': 3, 'studytime': 2, 'failures': 0, 'schoolsup': 1, 'famsup': 1, 'paid': 0, 'activities': 1, 'nursery': 1, 'higher': 1, 'internet': 0, 'romantic': 0, 'famrel': 5, 'freetime': 3, 'goout': 2, 'Dalc': 1, 'Walc': 1, 'health': 4, 'absences': 4, 'G1': 8, 'G2': 10, 'G3': 10, 'pass': 1}\n",
            "{'school': 1, 'sex': 0, 'age': 17, 'address': 1, 'famsize': 0, 'Pstatus': 1, 'Medu': 3, 'Fedu': 2, 'traveltime': 1, 'studytime': 1, 'failures': 3, 'schoolsup': 0, 'famsup': 1, 'paid': 0, 'activities': 1, 'nursery': 1, 'higher': 1, 'internet': 1, 'romantic': 0, 'famrel': 5, 'freetime': 5, 'goout': 5, 'Dalc': 2, 'Walc': 4, 'health': 5, 'absences': 16, 'G1': 6, 'G2': 5, 'G3': 5, 'pass': 0}\n",
            "{'school': 1, 'sex': 0, 'age': 16, 'address': 1, 'famsize': 1, 'Pstatus': 1, 'Medu': 4, 'Fedu': 3, 'traveltime': 1, 'studytime': 1, 'failures': 0, 'schoolsup': 0, 'famsup': 0, 'paid': 1, 'activities': 1, 'nursery': 1, 'higher': 1, 'internet': 1, 'romantic': 0, 'famrel': 3, 'freetime': 1, 'goout': 3, 'Dalc': 1, 'Walc': 3, 'health': 5, 'absences': 4, 'G1': 8, 'G2': 10, 'G3': 10, 'pass': 1}\n"
          ]
        }
      ]
    },
    {
      "cell_type": "code",
      "source": [
        "def transform_batch(df: pd.DataFrame) -> pd.DataFrame:\n",
        "    return df[(df[\"health\"] < 5) & (df[\"absences\"] > 5)]\n",
        "ds.map_batches(transform_batch).show()"
      ],
      "metadata": {
        "colab": {
          "base_uri": "https://localhost:8080/"
        },
        "id": "U6M6BBEGE1Lz",
        "outputId": "610aad12-a5d1-43f2-b3f2-4027ca9851e5"
      },
      "execution_count": null,
      "outputs": [
        {
          "output_type": "stream",
          "name": "stderr",
          "text": [
            "Read->Map_Batches: 100%|██████████| 1/1 [00:00<00:00, 10.69it/s]"
          ]
        },
        {
          "output_type": "stream",
          "name": "stdout",
          "text": [
            "{'school': 1, 'sex': 1, 'age': 18, 'address': 1, 'famsize': 0, 'Pstatus': 0, 'Medu': 4, 'Fedu': 4, 'traveltime': 2, 'studytime': 2, 'failures': 0, 'schoolsup': 1, 'famsup': 0, 'paid': 0, 'activities': 0, 'nursery': 1, 'higher': 1, 'internet': 0, 'romantic': 0, 'famrel': 4, 'freetime': 3, 'goout': 4, 'Dalc': 1, 'Walc': 1, 'health': 3, 'absences': 6, 'G1': 5, 'G2': 6, 'G3': 6, 'pass': 0}\n",
            "{'school': 1, 'sex': 1, 'age': 15, 'address': 1, 'famsize': 1, 'Pstatus': 1, 'Medu': 1, 'Fedu': 1, 'traveltime': 1, 'studytime': 2, 'failures': 3, 'schoolsup': 1, 'famsup': 0, 'paid': 1, 'activities': 0, 'nursery': 1, 'higher': 1, 'internet': 1, 'romantic': 0, 'famrel': 4, 'freetime': 3, 'goout': 2, 'Dalc': 2, 'Walc': 3, 'health': 3, 'absences': 10, 'G1': 7, 'G2': 8, 'G3': 10, 'pass': 1}\n",
            "{'school': 1, 'sex': 1, 'age': 17, 'address': 1, 'famsize': 0, 'Pstatus': 0, 'Medu': 4, 'Fedu': 4, 'traveltime': 2, 'studytime': 2, 'failures': 0, 'schoolsup': 1, 'famsup': 1, 'paid': 0, 'activities': 0, 'nursery': 1, 'higher': 1, 'internet': 0, 'romantic': 0, 'famrel': 4, 'freetime': 1, 'goout': 4, 'Dalc': 1, 'Walc': 1, 'health': 1, 'absences': 6, 'G1': 6, 'G2': 5, 'G3': 6, 'pass': 0}\n",
            "{'school': 1, 'sex': 1, 'age': 16, 'address': 1, 'famsize': 0, 'Pstatus': 1, 'Medu': 4, 'Fedu': 4, 'traveltime': 1, 'studytime': 3, 'failures': 0, 'schoolsup': 0, 'famsup': 1, 'paid': 1, 'activities': 1, 'nursery': 1, 'higher': 1, 'internet': 1, 'romantic': 0, 'famrel': 3, 'freetime': 2, 'goout': 3, 'Dalc': 1, 'Walc': 2, 'health': 2, 'absences': 6, 'G1': 13, 'G2': 14, 'G3': 14, 'pass': 1}\n",
            "{'school': 1, 'sex': 1, 'age': 15, 'address': 0, 'famsize': 0, 'Pstatus': 1, 'Medu': 2, 'Fedu': 2, 'traveltime': 1, 'studytime': 1, 'failures': 0, 'schoolsup': 1, 'famsup': 1, 'paid': 1, 'activities': 1, 'nursery': 1, 'higher': 1, 'internet': 0, 'romantic': 0, 'famrel': 4, 'freetime': 3, 'goout': 1, 'Dalc': 1, 'Walc': 1, 'health': 2, 'absences': 8, 'G1': 14, 'G2': 13, 'G3': 13, 'pass': 1}\n",
            "{'school': 1, 'sex': 1, 'age': 16, 'address': 1, 'famsize': 1, 'Pstatus': 1, 'Medu': 2, 'Fedu': 2, 'traveltime': 2, 'studytime': 2, 'failures': 1, 'schoolsup': 0, 'famsup': 1, 'paid': 0, 'activities': 1, 'nursery': 0, 'higher': 1, 'internet': 1, 'romantic': 1, 'famrel': 3, 'freetime': 3, 'goout': 3, 'Dalc': 1, 'Walc': 2, 'health': 3, 'absences': 25, 'G1': 7, 'G2': 10, 'G3': 11, 'pass': 1}\n",
            "{'school': 1, 'sex': 1, 'age': 16, 'address': 1, 'famsize': 1, 'Pstatus': 0, 'Medu': 3, 'Fedu': 3, 'traveltime': 1, 'studytime': 2, 'failures': 0, 'schoolsup': 0, 'famsup': 1, 'paid': 0, 'activities': 0, 'nursery': 1, 'higher': 1, 'internet': 1, 'romantic': 0, 'famrel': 2, 'freetime': 3, 'goout': 5, 'Dalc': 1, 'Walc': 4, 'health': 3, 'absences': 12, 'G1': 11, 'G2': 12, 'G3': 11, 'pass': 1}\n",
            "{'school': 1, 'sex': 1, 'age': 15, 'address': 1, 'famsize': 1, 'Pstatus': 0, 'Medu': 3, 'Fedu': 3, 'traveltime': 1, 'studytime': 1, 'failures': 0, 'schoolsup': 0, 'famsup': 0, 'paid': 1, 'activities': 0, 'nursery': 1, 'higher': 1, 'internet': 1, 'romantic': 0, 'famrel': 5, 'freetime': 3, 'goout': 4, 'Dalc': 4, 'Walc': 4, 'health': 1, 'absences': 6, 'G1': 10, 'G2': 13, 'G3': 13, 'pass': 1}\n",
            "{'school': 1, 'sex': 1, 'age': 16, 'address': 1, 'famsize': 0, 'Pstatus': 0, 'Medu': 2, 'Fedu': 1, 'traveltime': 1, 'studytime': 2, 'failures': 0, 'schoolsup': 0, 'famsup': 0, 'paid': 1, 'activities': 1, 'nursery': 1, 'higher': 1, 'internet': 1, 'romantic': 1, 'famrel': 5, 'freetime': 3, 'goout': 4, 'Dalc': 1, 'Walc': 1, 'health': 2, 'absences': 8, 'G1': 8, 'G2': 9, 'G3': 10, 'pass': 1}\n",
            "{'school': 1, 'sex': 1, 'age': 16, 'address': 0, 'famsize': 0, 'Pstatus': 1, 'Medu': 4, 'Fedu': 4, 'traveltime': 1, 'studytime': 2, 'failures': 0, 'schoolsup': 0, 'famsup': 1, 'paid': 0, 'activities': 1, 'nursery': 1, 'higher': 1, 'internet': 0, 'romantic': 0, 'famrel': 2, 'freetime': 4, 'goout': 4, 'Dalc': 2, 'Walc': 3, 'health': 4, 'absences': 6, 'G1': 10, 'G2': 11, 'G3': 11, 'pass': 1}\n",
            "{'school': 1, 'sex': 1, 'age': 15, 'address': 0, 'famsize': 1, 'Pstatus': 1, 'Medu': 3, 'Fedu': 1, 'traveltime': 2, 'studytime': 4, 'failures': 0, 'schoolsup': 0, 'famsup': 1, 'paid': 0, 'activities': 0, 'nursery': 0, 'higher': 1, 'internet': 1, 'romantic': 0, 'famrel': 4, 'freetime': 4, 'goout': 2, 'Dalc': 2, 'Walc': 3, 'health': 3, 'absences': 12, 'G1': 16, 'G2': 16, 'G3': 16, 'pass': 1}\n",
            "{'school': 1, 'sex': 0, 'age': 15, 'address': 1, 'famsize': 0, 'Pstatus': 1, 'Medu': 4, 'Fedu': 0, 'traveltime': 2, 'studytime': 4, 'failures': 0, 'schoolsup': 0, 'famsup': 0, 'paid': 0, 'activities': 1, 'nursery': 1, 'higher': 1, 'internet': 1, 'romantic': 0, 'famrel': 3, 'freetime': 4, 'goout': 3, 'Dalc': 1, 'Walc': 1, 'health': 1, 'absences': 8, 'G1': 11, 'G2': 11, 'G3': 10, 'pass': 1}\n",
            "{'school': 1, 'sex': 1, 'age': 16, 'address': 1, 'famsize': 0, 'Pstatus': 1, 'Medu': 3, 'Fedu': 4, 'traveltime': 1, 'studytime': 2, 'failures': 0, 'schoolsup': 0, 'famsup': 1, 'paid': 0, 'activities': 0, 'nursery': 1, 'higher': 1, 'internet': 1, 'romantic': 0, 'famrel': 2, 'freetime': 4, 'goout': 3, 'Dalc': 1, 'Walc': 2, 'health': 3, 'absences': 12, 'G1': 5, 'G2': 5, 'G3': 5, 'pass': 0}\n",
            "{'school': 1, 'sex': 0, 'age': 16, 'address': 1, 'famsize': 0, 'Pstatus': 1, 'Medu': 2, 'Fedu': 2, 'traveltime': 2, 'studytime': 2, 'failures': 1, 'schoolsup': 0, 'famsup': 0, 'paid': 1, 'activities': 1, 'nursery': 0, 'higher': 1, 'internet': 1, 'romantic': 0, 'famrel': 4, 'freetime': 4, 'goout': 2, 'Dalc': 1, 'Walc': 1, 'health': 3, 'absences': 12, 'G1': 11, 'G2': 10, 'G3': 10, 'pass': 1}\n",
            "{'school': 1, 'sex': 0, 'age': 15, 'address': 1, 'famsize': 1, 'Pstatus': 1, 'Medu': 2, 'Fedu': 2, 'traveltime': 1, 'studytime': 4, 'failures': 0, 'schoolsup': 0, 'famsup': 1, 'paid': 0, 'activities': 1, 'nursery': 1, 'higher': 1, 'internet': 1, 'romantic': 0, 'famrel': 4, 'freetime': 3, 'goout': 4, 'Dalc': 1, 'Walc': 1, 'health': 4, 'absences': 6, 'G1': 11, 'G2': 13, 'G3': 14, 'pass': 1}\n",
            "{'school': 1, 'sex': 1, 'age': 16, 'address': 1, 'famsize': 0, 'Pstatus': 1, 'Medu': 4, 'Fedu': 4, 'traveltime': 1, 'studytime': 1, 'failures': 0, 'schoolsup': 0, 'famsup': 0, 'paid': 0, 'activities': 1, 'nursery': 0, 'higher': 1, 'internet': 1, 'romantic': 0, 'famrel': 5, 'freetime': 3, 'goout': 4, 'Dalc': 1, 'Walc': 2, 'health': 1, 'absences': 6, 'G1': 11, 'G2': 14, 'G3': 14, 'pass': 1}\n",
            "{'school': 1, 'sex': 0, 'age': 16, 'address': 1, 'famsize': 0, 'Pstatus': 1, 'Medu': 4, 'Fedu': 4, 'traveltime': 1, 'studytime': 1, 'failures': 0, 'schoolsup': 1, 'famsup': 1, 'paid': 1, 'activities': 1, 'nursery': 1, 'higher': 1, 'internet': 1, 'romantic': 0, 'famrel': 4, 'freetime': 5, 'goout': 5, 'Dalc': 5, 'Walc': 5, 'health': 4, 'absences': 14, 'G1': 7, 'G2': 7, 'G3': 5, 'pass': 0}\n",
            "{'school': 1, 'sex': 1, 'age': 15, 'address': 1, 'famsize': 0, 'Pstatus': 1, 'Medu': 3, 'Fedu': 2, 'traveltime': 2, 'studytime': 2, 'failures': 0, 'schoolsup': 1, 'famsup': 1, 'paid': 1, 'activities': 0, 'nursery': 1, 'higher': 1, 'internet': 1, 'romantic': 0, 'famrel': 4, 'freetime': 3, 'goout': 5, 'Dalc': 1, 'Walc': 1, 'health': 2, 'absences': 26, 'G1': 7, 'G2': 6, 'G3': 6, 'pass': 0}\n",
            "{'school': 1, 'sex': 1, 'age': 15, 'address': 1, 'famsize': 0, 'Pstatus': 0, 'Medu': 3, 'Fedu': 3, 'traveltime': 1, 'studytime': 4, 'failures': 0, 'schoolsup': 1, 'famsup': 0, 'paid': 0, 'activities': 0, 'nursery': 1, 'higher': 1, 'internet': 0, 'romantic': 0, 'famrel': 4, 'freetime': 3, 'goout': 3, 'Dalc': 1, 'Walc': 1, 'health': 4, 'absences': 10, 'G1': 10, 'G2': 11, 'G3': 11, 'pass': 1}\n",
            "{'school': 1, 'sex': 1, 'age': 15, 'address': 1, 'famsize': 0, 'Pstatus': 1, 'Medu': 2, 'Fedu': 2, 'traveltime': 1, 'studytime': 4, 'failures': 0, 'schoolsup': 1, 'famsup': 1, 'paid': 1, 'activities': 0, 'nursery': 1, 'higher': 1, 'internet': 1, 'romantic': 0, 'famrel': 5, 'freetime': 1, 'goout': 2, 'Dalc': 1, 'Walc': 1, 'health': 3, 'absences': 8, 'G1': 7, 'G2': 8, 'G3': 8, 'pass': 0}\n"
          ]
        },
        {
          "output_type": "stream",
          "name": "stderr",
          "text": [
            "\n"
          ]
        }
      ]
    },
    {
      "cell_type": "code",
      "source": [
        "split = ds.split(2)\n",
        "print(split)"
      ],
      "metadata": {
        "colab": {
          "base_uri": "https://localhost:8080/"
        },
        "id": "MXGRubq7FKdj",
        "outputId": "98edceff-850f-456c-cfc3-6518e06a3680"
      },
      "execution_count": null,
      "outputs": [
        {
          "output_type": "stream",
          "name": "stdout",
          "text": [
            "[Dataset(num_blocks=1, num_rows=395, schema={school: int64, sex: int64, age: int64, address: int64, famsize: int64, Pstatus: int64, Medu: int64, Fedu: int64, traveltime: int64, studytime: int64, failures: int64, schoolsup: int64, famsup: int64, paid: int64, activities: int64, nursery: int64, higher: int64, internet: int64, romantic: int64, famrel: int64, freetime: int64, goout: int64, Dalc: int64, Walc: int64, health: int64, absences: int64, G1: int64, G2: int64, G3: int64, pass: int64}), Dataset(num_blocks=0, num_rows=None, schema=Unknown schema)]\n"
          ]
        }
      ]
    },
    {
      "cell_type": "code",
      "source": [
        "ds = ds.sort(\"absences\")\n",
        "ds.show(3)"
      ],
      "metadata": {
        "colab": {
          "base_uri": "https://localhost:8080/"
        },
        "id": "ZqCYfYsXFUqP",
        "outputId": "c4b4617e-cd26-4042-e358-c900ec711103"
      },
      "execution_count": null,
      "outputs": [
        {
          "output_type": "stream",
          "name": "stderr",
          "text": [
            "Read: 100%|██████████| 1/1 [00:00<00:00, 78.09it/s]\n",
            "Sort Sample: 100%|██████████| 1/1 [00:00<00:00, 48.13it/s]\n",
            "Shuffle Map: 100%|██████████| 1/1 [00:00<00:00, 51.51it/s]\n",
            "Shuffle Reduce: 100%|██████████| 1/1 [00:00<00:00, 62.35it/s]"
          ]
        },
        {
          "output_type": "stream",
          "name": "stdout",
          "text": [
            "{'school': 1, 'sex': 0, 'age': 16, 'address': 1, 'famsize': 1, 'Pstatus': 1, 'Medu': 2, 'Fedu': 2, 'traveltime': 1, 'studytime': 2, 'failures': 0, 'schoolsup': 0, 'famsup': 0, 'paid': 0, 'activities': 0, 'nursery': 1, 'higher': 1, 'internet': 1, 'romantic': 0, 'famrel': 4, 'freetime': 4, 'goout': 4, 'Dalc': 1, 'Walc': 1, 'health': 3, 'absences': 0, 'G1': 12, 'G2': 12, 'G3': 11, 'pass': 1}\n",
            "{'school': 1, 'sex': 0, 'age': 15, 'address': 1, 'famsize': 1, 'Pstatus': 0, 'Medu': 3, 'Fedu': 2, 'traveltime': 1, 'studytime': 2, 'failures': 0, 'schoolsup': 0, 'famsup': 1, 'paid': 1, 'activities': 0, 'nursery': 1, 'higher': 1, 'internet': 1, 'romantic': 0, 'famrel': 4, 'freetime': 2, 'goout': 2, 'Dalc': 1, 'Walc': 1, 'health': 1, 'absences': 0, 'G1': 16, 'G2': 18, 'G3': 19, 'pass': 1}\n",
            "{'school': 1, 'sex': 0, 'age': 15, 'address': 1, 'famsize': 0, 'Pstatus': 1, 'Medu': 3, 'Fedu': 4, 'traveltime': 1, 'studytime': 2, 'failures': 0, 'schoolsup': 0, 'famsup': 1, 'paid': 1, 'activities': 1, 'nursery': 1, 'higher': 1, 'internet': 1, 'romantic': 0, 'famrel': 5, 'freetime': 5, 'goout': 1, 'Dalc': 1, 'Walc': 1, 'health': 5, 'absences': 0, 'G1': 14, 'G2': 15, 'G3': 15, 'pass': 1}\n"
          ]
        },
        {
          "output_type": "stream",
          "name": "stderr",
          "text": [
            "\n"
          ]
        }
      ]
    },
    {
      "cell_type": "code",
      "source": [
        "ds = ds.random_shuffle()\n",
        "ds.show(3)"
      ],
      "metadata": {
        "colab": {
          "base_uri": "https://localhost:8080/"
        },
        "id": "RWQuGeyTFacN",
        "outputId": "abe9a579-df55-4953-eced-fe15b12c9fd6"
      },
      "execution_count": null,
      "outputs": [
        {
          "output_type": "stream",
          "name": "stderr",
          "text": [
            "Shuffle Map: 100%|██████████| 1/1 [00:00<00:00, 55.08it/s]\n",
            "Shuffle Reduce: 100%|██████████| 1/1 [00:00<00:00, 64.98it/s]"
          ]
        },
        {
          "output_type": "stream",
          "name": "stdout",
          "text": [
            "{'school': 1, 'sex': 0, 'age': 16, 'address': 1, 'famsize': 1, 'Pstatus': 1, 'Medu': 1, 'Fedu': 1, 'traveltime': 1, 'studytime': 2, 'failures': 1, 'schoolsup': 0, 'famsup': 0, 'paid': 0, 'activities': 0, 'nursery': 1, 'higher': 1, 'internet': 0, 'romantic': 1, 'famrel': 4, 'freetime': 4, 'goout': 4, 'Dalc': 1, 'Walc': 3, 'health': 5, 'absences': 0, 'G1': 14, 'G2': 12, 'G3': 12, 'pass': 1}\n",
            "{'school': 1, 'sex': 1, 'age': 15, 'address': 1, 'famsize': 0, 'Pstatus': 1, 'Medu': 4, 'Fedu': 4, 'traveltime': 2, 'studytime': 1, 'failures': 0, 'schoolsup': 0, 'famsup': 0, 'paid': 0, 'activities': 1, 'nursery': 1, 'higher': 1, 'internet': 1, 'romantic': 0, 'famrel': 4, 'freetime': 3, 'goout': 2, 'Dalc': 1, 'Walc': 1, 'health': 5, 'absences': 0, 'G1': 16, 'G2': 16, 'G3': 15, 'pass': 1}\n",
            "{'school': 1, 'sex': 0, 'age': 15, 'address': 1, 'famsize': 0, 'Pstatus': 1, 'Medu': 4, 'Fedu': 2, 'traveltime': 1, 'studytime': 1, 'failures': 0, 'schoolsup': 0, 'famsup': 0, 'paid': 1, 'activities': 0, 'nursery': 1, 'higher': 1, 'internet': 1, 'romantic': 0, 'famrel': 2, 'freetime': 2, 'goout': 4, 'Dalc': 2, 'Walc': 4, 'health': 1, 'absences': 4, 'G1': 15, 'G2': 16, 'G3': 15, 'pass': 1}\n"
          ]
        },
        {
          "output_type": "stream",
          "name": "stderr",
          "text": [
            "\n"
          ]
        }
      ]
    },
    {
      "cell_type": "code",
      "source": [
        "absences = ds.groupby(\"absences\").count().show()\n",
        "print(absences)"
      ],
      "metadata": {
        "colab": {
          "base_uri": "https://localhost:8080/"
        },
        "id": "qFPQLubcFfCf",
        "outputId": "59b27624-cb2d-4108-c386-2aeaf1d1c8f6"
      },
      "execution_count": null,
      "outputs": [
        {
          "output_type": "stream",
          "name": "stderr",
          "text": [
            "Sort Sample: 100%|██████████| 1/1 [00:00<00:00, 172.65it/s]\n",
            "Shuffle Map: 100%|██████████| 1/1 [00:00<00:00, 26.82it/s]\n",
            "Shuffle Reduce: 100%|██████████| 1/1 [00:00<00:00, 58.16it/s]"
          ]
        },
        {
          "output_type": "stream",
          "name": "stdout",
          "text": [
            "{'absences': 0, 'count()': 115}\n",
            "{'absences': 1, 'count()': 3}\n",
            "{'absences': 2, 'count()': 65}\n",
            "{'absences': 3, 'count()': 8}\n",
            "{'absences': 4, 'count()': 53}\n",
            "{'absences': 5, 'count()': 5}\n",
            "{'absences': 6, 'count()': 31}\n",
            "{'absences': 7, 'count()': 7}\n",
            "{'absences': 8, 'count()': 22}\n",
            "{'absences': 9, 'count()': 3}\n",
            "{'absences': 10, 'count()': 17}\n",
            "{'absences': 11, 'count()': 3}\n",
            "{'absences': 12, 'count()': 12}\n",
            "{'absences': 13, 'count()': 3}\n",
            "{'absences': 14, 'count()': 12}\n",
            "{'absences': 15, 'count()': 3}\n",
            "{'absences': 16, 'count()': 7}\n",
            "{'absences': 17, 'count()': 1}\n",
            "{'absences': 18, 'count()': 5}\n",
            "{'absences': 19, 'count()': 1}\n",
            "None\n"
          ]
        },
        {
          "output_type": "stream",
          "name": "stderr",
          "text": [
            "\n"
          ]
        }
      ]
    }
  ]
}