{
  "nbformat": 4,
  "nbformat_minor": 0,
  "metadata": {
    "colab": {
      "name": "Tugas05.ipynb",
      "provenance": [],
      "authorship_tag": "ABX9TyNOlMssgSV7SsO00/ZQHSWQ",
      "include_colab_link": true
    },
    "kernelspec": {
      "name": "python3",
      "display_name": "Python 3"
    },
    "language_info": {
      "name": "python"
    }
  },
  "cells": [
    {
      "cell_type": "markdown",
      "metadata": {
        "id": "view-in-github",
        "colab_type": "text"
      },
      "source": [
        "<a href=\"https://colab.research.google.com/github/lauracantik/mathtools/blob/main/Tugas05.ipynb\" target=\"_parent\"><img src=\"https://colab.research.google.com/assets/colab-badge.svg\" alt=\"Open In Colab\"/></a>"
      ]
    },
    {
      "cell_type": "code",
      "execution_count": 1,
      "metadata": {
        "colab": {
          "base_uri": "https://localhost:8080/"
        },
        "id": "XGRucLiDpWIs",
        "outputId": "9e0a78c5-afe7-4188-f1a5-a15e7c605f02"
      },
      "outputs": [
        {
          "output_type": "stream",
          "name": "stdout",
          "text": [
            "Looking in indexes: https://pypi.org/simple, https://us-python.pkg.dev/colab-wheels/public/simple/\n",
            "Collecting ray\n",
            "  Downloading ray-1.13.0-cp37-cp37m-manylinux2014_x86_64.whl (54.5 MB)\n",
            "\u001b[K     |████████████████████████████████| 54.5 MB 103 kB/s \n",
            "\u001b[?25hRequirement already satisfied: filelock in /usr/local/lib/python3.7/dist-packages (from ray) (3.7.1)\n",
            "Collecting frozenlist\n",
            "  Downloading frozenlist-1.3.0-cp37-cp37m-manylinux_2_5_x86_64.manylinux1_x86_64.manylinux_2_17_x86_64.manylinux2014_x86_64.whl (144 kB)\n",
            "\u001b[K     |████████████████████████████████| 144 kB 55.5 MB/s \n",
            "\u001b[?25hRequirement already satisfied: protobuf<4.0.0,>=3.15.3 in /usr/local/lib/python3.7/dist-packages (from ray) (3.17.3)\n",
            "Requirement already satisfied: click<=8.0.4,>=7.0 in /usr/local/lib/python3.7/dist-packages (from ray) (7.1.2)\n",
            "Requirement already satisfied: attrs in /usr/local/lib/python3.7/dist-packages (from ray) (21.4.0)\n",
            "Requirement already satisfied: jsonschema in /usr/local/lib/python3.7/dist-packages (from ray) (4.3.3)\n",
            "Requirement already satisfied: numpy>=1.16 in /usr/local/lib/python3.7/dist-packages (from ray) (1.21.6)\n",
            "Collecting virtualenv\n",
            "  Downloading virtualenv-20.16.0-py2.py3-none-any.whl (8.8 MB)\n",
            "\u001b[K     |████████████████████████████████| 8.8 MB 39.7 MB/s \n",
            "\u001b[?25hRequirement already satisfied: pyyaml in /usr/local/lib/python3.7/dist-packages (from ray) (3.13)\n",
            "Requirement already satisfied: requests in /usr/local/lib/python3.7/dist-packages (from ray) (2.23.0)\n",
            "Requirement already satisfied: msgpack<2.0.0,>=1.0.0 in /usr/local/lib/python3.7/dist-packages (from ray) (1.0.4)\n",
            "Collecting grpcio<=1.43.0,>=1.28.1\n",
            "  Downloading grpcio-1.43.0-cp37-cp37m-manylinux_2_17_x86_64.manylinux2014_x86_64.whl (4.1 MB)\n",
            "\u001b[K     |████████████████████████████████| 4.1 MB 40.7 MB/s \n",
            "\u001b[?25hCollecting aiosignal\n",
            "  Downloading aiosignal-1.2.0-py3-none-any.whl (8.2 kB)\n",
            "Requirement already satisfied: six>=1.5.2 in /usr/local/lib/python3.7/dist-packages (from grpcio<=1.43.0,>=1.28.1->ray) (1.15.0)\n",
            "Requirement already satisfied: typing-extensions in /usr/local/lib/python3.7/dist-packages (from jsonschema->ray) (4.1.1)\n",
            "Requirement already satisfied: pyrsistent!=0.17.0,!=0.17.1,!=0.17.2,>=0.14.0 in /usr/local/lib/python3.7/dist-packages (from jsonschema->ray) (0.18.1)\n",
            "Requirement already satisfied: importlib-metadata in /usr/local/lib/python3.7/dist-packages (from jsonschema->ray) (4.12.0)\n",
            "Requirement already satisfied: importlib-resources>=1.4.0 in /usr/local/lib/python3.7/dist-packages (from jsonschema->ray) (5.8.0)\n",
            "Requirement already satisfied: zipp>=3.1.0 in /usr/local/lib/python3.7/dist-packages (from importlib-resources>=1.4.0->jsonschema->ray) (3.8.1)\n",
            "Requirement already satisfied: certifi>=2017.4.17 in /usr/local/lib/python3.7/dist-packages (from requests->ray) (2022.6.15)\n",
            "Requirement already satisfied: chardet<4,>=3.0.2 in /usr/local/lib/python3.7/dist-packages (from requests->ray) (3.0.4)\n",
            "Requirement already satisfied: idna<3,>=2.5 in /usr/local/lib/python3.7/dist-packages (from requests->ray) (2.10)\n",
            "Requirement already satisfied: urllib3!=1.25.0,!=1.25.1,<1.26,>=1.21.1 in /usr/local/lib/python3.7/dist-packages (from requests->ray) (1.24.3)\n",
            "Collecting platformdirs<3,>=2\n",
            "  Downloading platformdirs-2.5.2-py3-none-any.whl (14 kB)\n",
            "Collecting distlib<1,>=0.3.1\n",
            "  Downloading distlib-0.3.5-py2.py3-none-any.whl (466 kB)\n",
            "\u001b[K     |████████████████████████████████| 466 kB 58.0 MB/s \n",
            "\u001b[?25hInstalling collected packages: platformdirs, frozenlist, distlib, virtualenv, grpcio, aiosignal, ray\n",
            "  Attempting uninstall: grpcio\n",
            "    Found existing installation: grpcio 1.47.0\n",
            "    Uninstalling grpcio-1.47.0:\n",
            "      Successfully uninstalled grpcio-1.47.0\n",
            "Successfully installed aiosignal-1.2.0 distlib-0.3.5 frozenlist-1.3.0 grpcio-1.43.0 platformdirs-2.5.2 ray-1.13.0 virtualenv-20.16.0\n"
          ]
        }
      ],
      "source": [
        "!pip install ray"
      ]
    },
    {
      "cell_type": "code",
      "source": [
        "import ray\n",
        "import pandas as pd\n",
        "\n",
        "# https://raw.githubusercontent.com/lauracantik/mathtools/main/healthcare-dataset-stroke-data.csv\n",
        "ds = ray.data.read_csv('/content/sample_data/healthcare-dataset-stroke-data.csv')"
      ],
      "metadata": {
        "id": "2npnak9cpp1q"
      },
      "execution_count": 8,
      "outputs": []
    },
    {
      "cell_type": "code",
      "source": [
        "# Menampilkan data ke table\n",
        "\n",
        "ds.show()"
      ],
      "metadata": {
        "colab": {
          "base_uri": "https://localhost:8080/"
        },
        "id": "6rAZ0NWjuzwc",
        "outputId": "600e6c4a-a593-4f94-d6bc-dcad2eef9f7e"
      },
      "execution_count": 9,
      "outputs": [
        {
          "output_type": "stream",
          "name": "stdout",
          "text": [
            "{'id': 9046, 'gender': 'Male', 'age': 67.0, 'hypertension': 0, 'heart_disease': 1, 'ever_married': 'Yes', 'work_type': 'Private', 'Residence_type': 'Urban', 'avg_glucose_level': 228.69, 'bmi': 36.6, 'smoking_status': 'formerly smoked', 'stroke': 1}\n",
            "{'id': 51676, 'gender': 'Female', 'age': 61.0, 'hypertension': 0, 'heart_disease': 0, 'ever_married': 'Yes', 'work_type': 'Self-employed', 'Residence_type': 'Rural', 'avg_glucose_level': 202.21, 'bmi': None, 'smoking_status': 'never smoked', 'stroke': 1}\n",
            "{'id': 31112, 'gender': 'Male', 'age': 80.0, 'hypertension': 0, 'heart_disease': 1, 'ever_married': 'Yes', 'work_type': 'Private', 'Residence_type': 'Rural', 'avg_glucose_level': 105.92, 'bmi': 32.5, 'smoking_status': 'never smoked', 'stroke': 1}\n",
            "{'id': 60182, 'gender': 'Female', 'age': 49.0, 'hypertension': 0, 'heart_disease': 0, 'ever_married': 'Yes', 'work_type': 'Private', 'Residence_type': 'Urban', 'avg_glucose_level': 171.23, 'bmi': 34.4, 'smoking_status': 'smokes', 'stroke': 1}\n",
            "{'id': 1665, 'gender': 'Female', 'age': 79.0, 'hypertension': 1, 'heart_disease': 0, 'ever_married': 'Yes', 'work_type': 'Self-employed', 'Residence_type': 'Rural', 'avg_glucose_level': 174.12, 'bmi': 24.0, 'smoking_status': 'never smoked', 'stroke': 1}\n",
            "{'id': 56669, 'gender': 'Male', 'age': 81.0, 'hypertension': 0, 'heart_disease': 0, 'ever_married': 'Yes', 'work_type': 'Private', 'Residence_type': 'Urban', 'avg_glucose_level': 186.21, 'bmi': 29.0, 'smoking_status': 'formerly smoked', 'stroke': 1}\n",
            "{'id': 53882, 'gender': 'Male', 'age': 74.0, 'hypertension': 1, 'heart_disease': 1, 'ever_married': 'Yes', 'work_type': 'Private', 'Residence_type': 'Rural', 'avg_glucose_level': 70.09, 'bmi': 27.4, 'smoking_status': 'never smoked', 'stroke': 1}\n",
            "{'id': 10434, 'gender': 'Female', 'age': 69.0, 'hypertension': 0, 'heart_disease': 0, 'ever_married': 'No', 'work_type': 'Private', 'Residence_type': 'Urban', 'avg_glucose_level': 94.39, 'bmi': 22.8, 'smoking_status': 'never smoked', 'stroke': 1}\n",
            "{'id': 27419, 'gender': 'Female', 'age': 59.0, 'hypertension': 0, 'heart_disease': 0, 'ever_married': 'Yes', 'work_type': 'Private', 'Residence_type': 'Rural', 'avg_glucose_level': 76.15, 'bmi': None, 'smoking_status': 'Unknown', 'stroke': 1}\n",
            "{'id': 60491, 'gender': 'Female', 'age': 78.0, 'hypertension': 0, 'heart_disease': 0, 'ever_married': 'Yes', 'work_type': 'Private', 'Residence_type': 'Urban', 'avg_glucose_level': 58.57, 'bmi': 24.2, 'smoking_status': 'Unknown', 'stroke': 1}\n",
            "{'id': 12109, 'gender': 'Female', 'age': 81.0, 'hypertension': 1, 'heart_disease': 0, 'ever_married': 'Yes', 'work_type': 'Private', 'Residence_type': 'Rural', 'avg_glucose_level': 80.43, 'bmi': 29.7, 'smoking_status': 'never smoked', 'stroke': 1}\n",
            "{'id': 12095, 'gender': 'Female', 'age': 61.0, 'hypertension': 0, 'heart_disease': 1, 'ever_married': 'Yes', 'work_type': 'Govt_job', 'Residence_type': 'Rural', 'avg_glucose_level': 120.46, 'bmi': 36.8, 'smoking_status': 'smokes', 'stroke': 1}\n",
            "{'id': 12175, 'gender': 'Female', 'age': 54.0, 'hypertension': 0, 'heart_disease': 0, 'ever_married': 'Yes', 'work_type': 'Private', 'Residence_type': 'Urban', 'avg_glucose_level': 104.51, 'bmi': 27.3, 'smoking_status': 'smokes', 'stroke': 1}\n",
            "{'id': 8213, 'gender': 'Male', 'age': 78.0, 'hypertension': 0, 'heart_disease': 1, 'ever_married': 'Yes', 'work_type': 'Private', 'Residence_type': 'Urban', 'avg_glucose_level': 219.84, 'bmi': None, 'smoking_status': 'Unknown', 'stroke': 1}\n",
            "{'id': 5317, 'gender': 'Female', 'age': 79.0, 'hypertension': 0, 'heart_disease': 1, 'ever_married': 'Yes', 'work_type': 'Private', 'Residence_type': 'Urban', 'avg_glucose_level': 214.09, 'bmi': 28.2, 'smoking_status': 'never smoked', 'stroke': 1}\n",
            "{'id': 58202, 'gender': 'Female', 'age': 50.0, 'hypertension': 1, 'heart_disease': 0, 'ever_married': 'Yes', 'work_type': 'Self-employed', 'Residence_type': 'Rural', 'avg_glucose_level': 167.41, 'bmi': 30.9, 'smoking_status': 'never smoked', 'stroke': 1}\n",
            "{'id': 56112, 'gender': 'Male', 'age': 64.0, 'hypertension': 0, 'heart_disease': 1, 'ever_married': 'Yes', 'work_type': 'Private', 'Residence_type': 'Urban', 'avg_glucose_level': 191.61, 'bmi': 37.5, 'smoking_status': 'smokes', 'stroke': 1}\n",
            "{'id': 34120, 'gender': 'Male', 'age': 75.0, 'hypertension': 1, 'heart_disease': 0, 'ever_married': 'Yes', 'work_type': 'Private', 'Residence_type': 'Urban', 'avg_glucose_level': 221.29, 'bmi': 25.8, 'smoking_status': 'smokes', 'stroke': 1}\n",
            "{'id': 27458, 'gender': 'Female', 'age': 60.0, 'hypertension': 0, 'heart_disease': 0, 'ever_married': 'No', 'work_type': 'Private', 'Residence_type': 'Urban', 'avg_glucose_level': 89.22, 'bmi': 37.8, 'smoking_status': 'never smoked', 'stroke': 1}\n",
            "{'id': 25226, 'gender': 'Male', 'age': 57.0, 'hypertension': 0, 'heart_disease': 1, 'ever_married': 'No', 'work_type': 'Govt_job', 'Residence_type': 'Urban', 'avg_glucose_level': 217.08, 'bmi': None, 'smoking_status': 'Unknown', 'stroke': 1}\n"
          ]
        }
      ]
    },
    {
      "cell_type": "code",
      "source": [
        "# memfilter data\n",
        "def transform_batch(df: pd.DataFrame) -> pd.DataFrame:\n",
        "    return df[(df[\"avg_glucose_level\"] < 100) & (df[\"bmi\"] > 25)]\n",
        "\n",
        "# Map processing the dataset.\n",
        "ds.map_batches(transform_batch).show()\n"
      ],
      "metadata": {
        "colab": {
          "base_uri": "https://localhost:8080/"
        },
        "id": "pE_Wo2RMvEtS",
        "outputId": "43a3e94e-dd1a-47a0-8d51-8f6c88c1cda5"
      },
      "execution_count": 11,
      "outputs": [
        {
          "output_type": "stream",
          "name": "stderr",
          "text": [
            "Read->Map_Batches: 100%|██████████| 1/1 [00:00<00:00, 22.80it/s]"
          ]
        },
        {
          "output_type": "stream",
          "name": "stdout",
          "text": [
            "{'id': 53882, 'gender': 'Male', 'age': 74.0, 'hypertension': 1, 'heart_disease': 1, 'ever_married': 'Yes', 'work_type': 'Private', 'Residence_type': 'Rural', 'avg_glucose_level': 70.09, 'bmi': 27.4, 'smoking_status': 'never smoked', 'stroke': 1}\n",
            "{'id': 12109, 'gender': 'Female', 'age': 81.0, 'hypertension': 1, 'heart_disease': 0, 'ever_married': 'Yes', 'work_type': 'Private', 'Residence_type': 'Rural', 'avg_glucose_level': 80.43, 'bmi': 29.7, 'smoking_status': 'never smoked', 'stroke': 1}\n",
            "{'id': 27458, 'gender': 'Female', 'age': 60.0, 'hypertension': 0, 'heart_disease': 0, 'ever_married': 'No', 'work_type': 'Private', 'Residence_type': 'Urban', 'avg_glucose_level': 89.22, 'bmi': 37.8, 'smoking_status': 'never smoked', 'stroke': 1}\n",
            "{'id': 33879, 'gender': 'Male', 'age': 42.0, 'hypertension': 0, 'heart_disease': 0, 'ever_married': 'Yes', 'work_type': 'Private', 'Residence_type': 'Rural', 'avg_glucose_level': 83.41, 'bmi': 25.4, 'smoking_status': 'Unknown', 'stroke': 1}\n",
            "{'id': 14248, 'gender': 'Male', 'age': 48.0, 'hypertension': 0, 'heart_disease': 0, 'ever_married': 'No', 'work_type': 'Govt_job', 'Residence_type': 'Urban', 'avg_glucose_level': 84.2, 'bmi': 29.7, 'smoking_status': 'never smoked', 'stroke': 1}\n",
            "{'id': 712, 'gender': 'Female', 'age': 82.0, 'hypertension': 1, 'heart_disease': 1, 'ever_married': 'No', 'work_type': 'Private', 'Residence_type': 'Rural', 'avg_glucose_level': 84.03, 'bmi': 26.5, 'smoking_status': 'formerly smoked', 'stroke': 1}\n",
            "{'id': 47306, 'gender': 'Male', 'age': 58.0, 'hypertension': 0, 'heart_disease': 0, 'ever_married': 'No', 'work_type': 'Private', 'Residence_type': 'Rural', 'avg_glucose_level': 92.62, 'bmi': 32.0, 'smoking_status': 'Unknown', 'stroke': 1}\n",
            "{'id': 62602, 'gender': 'Female', 'age': 49.0, 'hypertension': 0, 'heart_disease': 0, 'ever_married': 'Yes', 'work_type': 'Private', 'Residence_type': 'Urban', 'avg_glucose_level': 60.91, 'bmi': 29.9, 'smoking_status': 'never smoked', 'stroke': 1}\n",
            "{'id': 1261, 'gender': 'Male', 'age': 54.0, 'hypertension': 0, 'heart_disease': 0, 'ever_married': 'Yes', 'work_type': 'Private', 'Residence_type': 'Urban', 'avg_glucose_level': 71.22, 'bmi': 28.5, 'smoking_status': 'never smoked', 'stroke': 1}\n",
            "{'id': 35626, 'gender': 'Male', 'age': 81.0, 'hypertension': 0, 'heart_disease': 0, 'ever_married': 'Yes', 'work_type': 'Self-employed', 'Residence_type': 'Urban', 'avg_glucose_level': 99.33, 'bmi': 33.7, 'smoking_status': 'never smoked', 'stroke': 1}\n",
            "{'id': 36338, 'gender': 'Female', 'age': 39.0, 'hypertension': 1, 'heart_disease': 0, 'ever_married': 'Yes', 'work_type': 'Private', 'Residence_type': 'Rural', 'avg_glucose_level': 58.09, 'bmi': 39.2, 'smoking_status': 'smokes', 'stroke': 1}\n",
            "{'id': 38829, 'gender': 'Female', 'age': 82.0, 'hypertension': 0, 'heart_disease': 0, 'ever_married': 'Yes', 'work_type': 'Private', 'Residence_type': 'Rural', 'avg_glucose_level': 59.32, 'bmi': 33.2, 'smoking_status': 'never smoked', 'stroke': 1}\n",
            "{'id': 65842, 'gender': 'Female', 'age': 67.0, 'hypertension': 1, 'heart_disease': 0, 'ever_married': 'Yes', 'work_type': 'Self-employed', 'Residence_type': 'Rural', 'avg_glucose_level': 61.94, 'bmi': 25.3, 'smoking_status': 'smokes', 'stroke': 1}\n",
            "{'id': 19557, 'gender': 'Female', 'age': 45.0, 'hypertension': 0, 'heart_disease': 0, 'ever_married': 'Yes', 'work_type': 'Private', 'Residence_type': 'Rural', 'avg_glucose_level': 93.72, 'bmi': 30.2, 'smoking_status': 'formerly smoked', 'stroke': 1}\n",
            "{'id': 6118, 'gender': 'Male', 'age': 59.0, 'hypertension': 0, 'heart_disease': 0, 'ever_married': 'Yes', 'work_type': 'Private', 'Residence_type': 'Urban', 'avg_glucose_level': 86.23, 'bmi': 30.0, 'smoking_status': 'formerly smoked', 'stroke': 1}\n",
            "{'id': 7371, 'gender': 'Female', 'age': 80.0, 'hypertension': 1, 'heart_disease': 0, 'ever_married': 'Yes', 'work_type': 'Self-employed', 'Residence_type': 'Rural', 'avg_glucose_level': 72.67, 'bmi': 28.9, 'smoking_status': 'never smoked', 'stroke': 1}\n",
            "{'id': 19773, 'gender': 'Female', 'age': 52.0, 'hypertension': 0, 'heart_disease': 0, 'ever_married': 'Yes', 'work_type': 'Private', 'Residence_type': 'Rural', 'avg_glucose_level': 96.59, 'bmi': 26.4, 'smoking_status': 'never smoked', 'stroke': 1}\n",
            "{'id': 57419, 'gender': 'Male', 'age': 59.0, 'hypertension': 0, 'heart_disease': 0, 'ever_married': 'Yes', 'work_type': 'Private', 'Residence_type': 'Rural', 'avg_glucose_level': 96.16, 'bmi': 44.1, 'smoking_status': 'Unknown', 'stroke': 1}\n",
            "{'id': 66638, 'gender': 'Female', 'age': 68.0, 'hypertension': 1, 'heart_disease': 0, 'ever_married': 'No', 'work_type': 'Self-employed', 'Residence_type': 'Urban', 'avg_glucose_level': 79.79, 'bmi': 29.7, 'smoking_status': 'never smoked', 'stroke': 1}\n",
            "{'id': 32399, 'gender': 'Male', 'age': 54.0, 'hypertension': 0, 'heart_disease': 0, 'ever_married': 'Yes', 'work_type': 'Private', 'Residence_type': 'Rural', 'avg_glucose_level': 96.97, 'bmi': 29.1, 'smoking_status': 'smokes', 'stroke': 1}\n"
          ]
        },
        {
          "output_type": "stream",
          "name": "stderr",
          "text": [
            "\n"
          ]
        }
      ]
    },
    {
      "cell_type": "code",
      "source": [
        "# Splitting Data\n",
        "\n",
        "split = ds.split(2)\n",
        "\n",
        "print(split)"
      ],
      "metadata": {
        "colab": {
          "base_uri": "https://localhost:8080/"
        },
        "id": "vJLqSfwNwimp",
        "outputId": "e3a9811c-e0cd-4aba-be2a-1dce09bce3eb"
      },
      "execution_count": 12,
      "outputs": [
        {
          "output_type": "stream",
          "name": "stdout",
          "text": [
            "[Dataset(num_blocks=1, num_rows=5110, schema={id: int64, gender: string, age: double, hypertension: int64, heart_disease: int64, ever_married: string, work_type: string, Residence_type: string, avg_glucose_level: double, bmi: double, smoking_status: string, stroke: int64}), Dataset(num_blocks=0, num_rows=None, schema=Unknown schema)]\n"
          ]
        }
      ]
    },
    {
      "cell_type": "code",
      "source": [
        "# mensortir data dari yang terkecil ke terbesar dengan maksimal 5 data\n",
        "ds = ds.sort(\"bmi\")\n",
        "ds.show(5)"
      ],
      "metadata": {
        "colab": {
          "base_uri": "https://localhost:8080/"
        },
        "id": "Ig8NqpAWwp7r",
        "outputId": "b41bae75-bf76-4ed1-9103-0a33c2ef28ae"
      },
      "execution_count": 16,
      "outputs": [
        {
          "output_type": "stream",
          "name": "stderr",
          "text": [
            "Sort Sample: 100%|██████████| 1/1 [00:00<00:00, 254.06it/s]\n",
            "Shuffle Map: 100%|██████████| 1/1 [00:00<00:00, 59.19it/s]\n",
            "Shuffle Reduce: 100%|██████████| 1/1 [00:00<00:00, 54.28it/s]"
          ]
        },
        {
          "output_type": "stream",
          "name": "stdout",
          "text": [
            "{'id': 38043, 'gender': 'Female', 'age': 1.24, 'hypertension': 0, 'heart_disease': 0, 'ever_married': 'No', 'work_type': 'children', 'Residence_type': 'Rural', 'avg_glucose_level': 122.04, 'bmi': 10.3, 'smoking_status': 'Unknown', 'stroke': 0}\n",
            "{'id': 3205, 'gender': 'Female', 'age': 79.0, 'hypertension': 0, 'heart_disease': 0, 'ever_married': 'Yes', 'work_type': 'Self-employed', 'Residence_type': 'Urban', 'avg_glucose_level': 79.03, 'bmi': 11.3, 'smoking_status': 'Unknown', 'stroke': 0}\n",
            "{'id': 59993, 'gender': 'Male', 'age': 40.0, 'hypertension': 0, 'heart_disease': 0, 'ever_married': 'Yes', 'work_type': 'Private', 'Residence_type': 'Rural', 'avg_glucose_level': 60.96, 'bmi': 11.5, 'smoking_status': 'never smoked', 'stroke': 0}\n",
            "{'id': 20364, 'gender': 'Female', 'age': 4.0, 'hypertension': 0, 'heart_disease': 0, 'ever_married': 'No', 'work_type': 'children', 'Residence_type': 'Urban', 'avg_glucose_level': 107.25, 'bmi': 12.0, 'smoking_status': 'Unknown', 'stroke': 0}\n",
            "{'id': 45893, 'gender': 'Female', 'age': 8.0, 'hypertension': 0, 'heart_disease': 0, 'ever_married': 'No', 'work_type': 'children', 'Residence_type': 'Urban', 'avg_glucose_level': 106.51, 'bmi': 12.3, 'smoking_status': 'Unknown', 'stroke': 0}\n"
          ]
        },
        {
          "output_type": "stream",
          "name": "stderr",
          "text": [
            "\n"
          ]
        }
      ]
    },
    {
      "cell_type": "code",
      "source": [
        "ds = ds.random_shuffle()\n",
        "ds.show(5)"
      ],
      "metadata": {
        "colab": {
          "base_uri": "https://localhost:8080/"
        },
        "id": "4uwEY9iXxA69",
        "outputId": "d2a6f8ee-16d5-4316-94fe-0706529f5611"
      },
      "execution_count": 17,
      "outputs": [
        {
          "output_type": "stream",
          "name": "stderr",
          "text": [
            "Shuffle Map: 100%|██████████| 1/1 [00:00<00:00, 60.49it/s]\n",
            "Shuffle Reduce: 100%|██████████| 1/1 [00:00<00:00, 71.31it/s]"
          ]
        },
        {
          "output_type": "stream",
          "name": "stdout",
          "text": [
            "{'id': 72435, 'gender': 'Female', 'age': 37.0, 'hypertension': 0, 'heart_disease': 0, 'ever_married': 'Yes', 'work_type': 'Private', 'Residence_type': 'Urban', 'avg_glucose_level': 217.11, 'bmi': 29.1, 'smoking_status': 'never smoked', 'stroke': 0}\n",
            "{'id': 65407, 'gender': 'Female', 'age': 64.0, 'hypertension': 0, 'heart_disease': 0, 'ever_married': 'Yes', 'work_type': 'Self-employed', 'Residence_type': 'Rural', 'avg_glucose_level': 65.46, 'bmi': 32.5, 'smoking_status': 'formerly smoked', 'stroke': 0}\n",
            "{'id': 42545, 'gender': 'Male', 'age': 29.0, 'hypertension': 1, 'heart_disease': 0, 'ever_married': 'Yes', 'work_type': 'Private', 'Residence_type': 'Urban', 'avg_glucose_level': 77.55, 'bmi': None, 'smoking_status': 'formerly smoked', 'stroke': 0}\n",
            "{'id': 12600, 'gender': 'Female', 'age': 42.0, 'hypertension': 0, 'heart_disease': 0, 'ever_married': 'Yes', 'work_type': 'Self-employed', 'Residence_type': 'Rural', 'avg_glucose_level': 79.99, 'bmi': 26.3, 'smoking_status': 'never smoked', 'stroke': 0}\n",
            "{'id': 34336, 'gender': 'Male', 'age': 50.0, 'hypertension': 1, 'heart_disease': 0, 'ever_married': 'Yes', 'work_type': 'Govt_job', 'Residence_type': 'Rural', 'avg_glucose_level': 79.73, 'bmi': 25.5, 'smoking_status': 'smokes', 'stroke': 0}\n"
          ]
        },
        {
          "output_type": "stream",
          "name": "stderr",
          "text": [
            "\n"
          ]
        }
      ]
    },
    {
      "cell_type": "code",
      "source": [
        "stroke = ds.groupby(\"stroke\").count().show()\n",
        "\n",
        "print(stroke)"
      ],
      "metadata": {
        "colab": {
          "base_uri": "https://localhost:8080/"
        },
        "id": "7APKNV0xxjPj",
        "outputId": "423a5b5b-8b1e-473c-81a5-46193984c328"
      },
      "execution_count": 20,
      "outputs": [
        {
          "output_type": "stream",
          "name": "stderr",
          "text": [
            "Sort Sample: 100%|██████████| 1/1 [00:00<00:00, 351.64it/s]\n",
            "Shuffle Map: 100%|██████████| 1/1 [00:00<00:00,  8.74it/s]\n",
            "Shuffle Reduce: 100%|██████████| 1/1 [00:00<00:00, 113.37it/s]"
          ]
        },
        {
          "output_type": "stream",
          "name": "stdout",
          "text": [
            "{'stroke': 0, 'count()': 4861}\n",
            "{'stroke': 1, 'count()': 249}\n",
            "None\n"
          ]
        },
        {
          "output_type": "stream",
          "name": "stderr",
          "text": [
            "\n"
          ]
        }
      ]
    }
  ]
}