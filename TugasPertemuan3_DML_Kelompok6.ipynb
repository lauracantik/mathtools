{
  "nbformat": 4,
  "nbformat_minor": 0,
  "metadata": {
    "colab": {
      "provenance": [],
      "collapsed_sections": [],
      "authorship_tag": "ABX9TyP834yKxjd2ehvCuOITBrSC",
      "include_colab_link": true
    },
    "kernelspec": {
      "name": "python3",
      "display_name": "Python 3"
    },
    "language_info": {
      "name": "python"
    }
  },
  "cells": [
    {
      "cell_type": "markdown",
      "metadata": {
        "id": "view-in-github",
        "colab_type": "text"
      },
      "source": [
        "<a href=\"https://colab.research.google.com/github/lauracantik/mathtools/blob/main/TugasPertemuan3_DML_Kelompok6.ipynb\" target=\"_parent\"><img src=\"https://colab.research.google.com/assets/colab-badge.svg\" alt=\"Open In Colab\"/></a>"
      ]
    },
    {
      "cell_type": "code",
      "execution_count": 3,
      "metadata": {
        "colab": {
          "base_uri": "https://localhost:8080/"
        },
        "id": "rGPMvobYDmrj",
        "outputId": "925b81e2-0603-438d-fb91-84a959e87da4"
      },
      "outputs": [
        {
          "output_type": "stream",
          "name": "stdout",
          "text": [
            "PROGRAM PYTHON MENGHITUNG NILAI RATA-RATA\n",
            "\n",
            "Banyaknya Data: 4\n",
            "\n",
            "Masukkan data ke-1: 45\n",
            "Masukkan data ke-2: 23\n",
            "Masukkan data ke-3: 71\n",
            "Masukkan data ke-4: 81\n",
            "\n",
            "Rata-rata  = 55.00\n"
          ]
        }
      ],
      "source": [
        "print(\"PROGRAM PYTHON MENGHITUNG NILAI RATA-RATA\")\n",
        "\n",
        "n = int(input(\"\\nBanyaknya Data: \"))\n",
        "\n",
        "print() #Membuat baris baru\n",
        "data = []\n",
        "jum = 0\n",
        "\n",
        "for i in range(0, n):\n",
        "    temp = int(input(\"Masukkan data ke-%d: \" % (i+1)))\n",
        "    data.append(temp)\n",
        "    jum += data[i]\n",
        "    rata2 = jum / n\n",
        "\n",
        "print(\"\\nRata-rata  = %0.2f\" % rata2)"
      ]
    }
  ]
}